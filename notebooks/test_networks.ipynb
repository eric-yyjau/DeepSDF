{
 "cells": [
  {
   "cell_type": "markdown",
   "metadata": {},
   "source": [
    "## Test deepSDF"
   ]
  },
  {
   "cell_type": "code",
   "execution_count": 2,
   "metadata": {},
   "outputs": [
    {
     "name": "stdout",
     "output_type": "stream",
     "text": [
      "/home/yyjau/Documents/object_code/DeepSDF\n"
     ]
    }
   ],
   "source": [
    "import os\n",
    "import sys\n",
    "# add your module path\n",
    "module_path = os.path.abspath(os.path.join('..')) # '.'\n",
    "if module_path not in sys.path:\n",
    "    sys.path.append(module_path)\n",
    "# change your base path\n",
    "os.chdir('../') # '../'\n",
    "print(os.getcwd())"
   ]
  },
  {
   "cell_type": "code",
   "execution_count": 3,
   "metadata": {},
   "outputs": [
    {
     "name": "stdout",
     "output_type": "stream",
     "text": [
      "The autoreload extension is already loaded. To reload it, use:\n",
      "  %reload_ext autoreload\n"
     ]
    }
   ],
   "source": [
    "%load_ext autoreload\n",
    "%autoreload 2"
   ]
  },
  {
   "cell_type": "code",
   "execution_count": 4,
   "metadata": {},
   "outputs": [],
   "source": [
    "import deep_sdf\n",
    "from networks.deep_sdf_decoder import Decoder"
   ]
  },
  {
   "cell_type": "markdown",
   "metadata": {},
   "source": [
    "## Test networks"
   ]
  },
  {
   "cell_type": "code",
   "execution_count": 151,
   "metadata": {},
   "outputs": [],
   "source": [
    "latent_size = 256\n",
    "dims = [ 512, 512, 512, 512, 512, 512, 512, 512 ]\n",
    "net = Decoder(latent_size, dims)\n",
    "\n",
    "# test decoder\n",
    "experiment_directory = 'examples/chairs'\n",
    "def test_net(experiment_directory):\n",
    "#     experiment_directory = 'examples/chairs'\n",
    "    specs = ws.load_experiment_specifications(experiment_directory)\n",
    "#     latent_size = specs[\"CodeLength\"]\n",
    "    latent_size = 0\n",
    "    \n",
    "    net = Decoder(latent_size, **specs[\"NetworkSpecs\"])\n",
    "    return net\n",
    "\n",
    "net = test_net(experiment_directory)"
   ]
  },
  {
   "cell_type": "code",
   "execution_count": 164,
   "metadata": {},
   "outputs": [],
   "source": [
    "from networks.igr_decoder import Decoder\n",
    "experiment_directory = 'examples/chairs_igr/'\n",
    "def test_net_igr(experiment_directory):\n",
    "#     experiment_directory = 'examples/chairs'\n",
    "    specs = ws.load_experiment_specifications(experiment_directory)\n",
    "#     latent_size = specs[\"CodeLength\"]\n",
    "    latent_size = 0\n",
    "    \n",
    "    net = Decoder(3+latent_size, **specs[\"NetworkSpecs\"])\n",
    "    return net\n",
    "\n",
    "net = test_net_igr(experiment_directory)"
   ]
  },
  {
   "cell_type": "code",
   "execution_count": 165,
   "metadata": {},
   "outputs": [
    {
     "name": "stdout",
     "output_type": "stream",
     "text": [
      "Decoder(\n",
      "  (lin0): Linear(in_features=3, out_features=512, bias=True)\n",
      "  (lin1): Linear(in_features=512, out_features=512, bias=True)\n",
      "  (lin2): Linear(in_features=512, out_features=512, bias=True)\n",
      "  (lin3): Linear(in_features=512, out_features=509, bias=True)\n",
      "  (lin4): Linear(in_features=512, out_features=512, bias=True)\n",
      "  (lin5): Linear(in_features=512, out_features=512, bias=True)\n",
      "  (lin6): Linear(in_features=512, out_features=512, bias=True)\n",
      "  (lin7): Linear(in_features=512, out_features=512, bias=True)\n",
      "  (lin8): Linear(in_features=512, out_features=1, bias=True)\n",
      "  (activation): Softplus(beta=100, threshold=20)\n",
      ")\n"
     ]
    }
   ],
   "source": [
    "print(net)"
   ]
  },
  {
   "cell_type": "code",
   "execution_count": 166,
   "metadata": {},
   "outputs": [
    {
     "name": "stdout",
     "output_type": "stream",
     "text": [
      "----------------------------------------------------------------\n",
      "        Layer (type)               Output Shape         Param #\n",
      "================================================================\n",
      "            Linear-1               [-1, 1, 512]           2,048\n",
      "          Softplus-2               [-1, 1, 512]               0\n",
      "            Linear-3               [-1, 1, 512]         262,656\n",
      "          Softplus-4               [-1, 1, 512]               0\n",
      "            Linear-5               [-1, 1, 512]         262,656\n",
      "          Softplus-6               [-1, 1, 512]               0\n",
      "            Linear-7               [-1, 1, 509]         261,117\n",
      "          Softplus-8               [-1, 1, 509]               0\n",
      "            Linear-9               [-1, 1, 512]         262,656\n",
      "         Softplus-10               [-1, 1, 512]               0\n",
      "           Linear-11               [-1, 1, 512]         262,656\n",
      "         Softplus-12               [-1, 1, 512]               0\n",
      "           Linear-13               [-1, 1, 512]         262,656\n",
      "         Softplus-14               [-1, 1, 512]               0\n",
      "           Linear-15               [-1, 1, 512]         262,656\n",
      "         Softplus-16               [-1, 1, 512]               0\n",
      "           Linear-17                 [-1, 1, 1]             513\n",
      "================================================================\n",
      "Total params: 1,839,614\n",
      "Trainable params: 1,839,614\n",
      "Non-trainable params: 0\n",
      "----------------------------------------------------------------\n",
      "Input size (MB): 0.00\n",
      "Forward/backward pass size (MB): 0.06\n",
      "Params size (MB): 7.02\n",
      "Estimated Total Size (MB): 7.08\n",
      "----------------------------------------------------------------\n"
     ]
    }
   ],
   "source": [
    "from torchsummary import summary\n",
    "import torch\n",
    "channels = 3\n",
    "device = torch.device(\"cuda\" if torch.cuda.is_available() else \"cpu\")\n",
    "net = net.to(device)\n",
    "summary(net, input_size=(1,channels))"
   ]
  },
  {
   "cell_type": "code",
   "execution_count": 149,
   "metadata": {},
   "outputs": [
    {
     "name": "stdout",
     "output_type": "stream",
     "text": [
      "ImplicitNet(\n",
      "  (lin0): Linear(in_features=3, out_features=512, bias=True)\n",
      "  (lin1): Linear(in_features=512, out_features=512, bias=True)\n",
      "  (lin2): Linear(in_features=512, out_features=512, bias=True)\n",
      "  (lin3): Linear(in_features=512, out_features=509, bias=True)\n",
      "  (lin4): Linear(in_features=512, out_features=512, bias=True)\n",
      "  (lin5): Linear(in_features=512, out_features=512, bias=True)\n",
      "  (lin6): Linear(in_features=512, out_features=512, bias=True)\n",
      "  (lin7): Linear(in_features=512, out_features=512, bias=True)\n",
      "  (lin8): Linear(in_features=512, out_features=1, bias=True)\n",
      "  (activation): Softplus(beta=100, threshold=20)\n",
      ")\n"
     ]
    }
   ],
   "source": [
    "from IGR.model.network import ImplicitNet\n",
    "d_in = 3\n",
    "latent_size = 0\n",
    "dims = [ 512, 512, 512, 512, 512, 512, 512, 512 ]\n",
    "net_igr = ImplicitNet(d_in+latent_size, dims, skip_in = [4])\n",
    "print(net_igr)\n"
   ]
  },
  {
   "cell_type": "code",
   "execution_count": 150,
   "metadata": {},
   "outputs": [
    {
     "name": "stdout",
     "output_type": "stream",
     "text": [
      "----------------------------------------------------------------\n",
      "        Layer (type)               Output Shape         Param #\n",
      "================================================================\n",
      "            Linear-1               [-1, 1, 512]           2,048\n",
      "          Softplus-2               [-1, 1, 512]               0\n",
      "            Linear-3               [-1, 1, 512]         262,656\n",
      "          Softplus-4               [-1, 1, 512]               0\n",
      "            Linear-5               [-1, 1, 512]         262,656\n",
      "          Softplus-6               [-1, 1, 512]               0\n",
      "            Linear-7               [-1, 1, 509]         261,117\n",
      "          Softplus-8               [-1, 1, 509]               0\n",
      "            Linear-9               [-1, 1, 512]         262,656\n",
      "         Softplus-10               [-1, 1, 512]               0\n",
      "           Linear-11               [-1, 1, 512]         262,656\n",
      "         Softplus-12               [-1, 1, 512]               0\n",
      "           Linear-13               [-1, 1, 512]         262,656\n",
      "         Softplus-14               [-1, 1, 512]               0\n",
      "           Linear-15               [-1, 1, 512]         262,656\n",
      "         Softplus-16               [-1, 1, 512]               0\n",
      "           Linear-17                 [-1, 1, 1]             513\n",
      "================================================================\n",
      "Total params: 1,839,614\n",
      "Trainable params: 1,839,614\n",
      "Non-trainable params: 0\n",
      "----------------------------------------------------------------\n",
      "Input size (MB): 0.00\n",
      "Forward/backward pass size (MB): 0.06\n",
      "Params size (MB): 7.02\n",
      "Estimated Total Size (MB): 7.08\n",
      "----------------------------------------------------------------\n"
     ]
    }
   ],
   "source": [
    "device = torch.device(\"cuda\" if torch.cuda.is_available() else \"cpu\")\n",
    "net_igr = net_igr.to(device)\n",
    "summary(net_igr, input_size=(1,d_in+latent_size))"
   ]
  },
  {
   "cell_type": "markdown",
   "metadata": {},
   "source": [
    "## Dataloader"
   ]
  },
  {
   "cell_type": "code",
   "execution_count": 6,
   "metadata": {},
   "outputs": [],
   "source": [
    "import json\n",
    "import deep_sdf.workspace as ws\n",
    "\n",
    "\n",
    "experiment_directory = 'examples/chairs'\n",
    "def test_dataset(experiment_directory):\n",
    "    specs = ws.load_experiment_specifications(experiment_directory)\n",
    "    \n",
    "    data_source = specs[\"DataSource\"]\n",
    "    train_split_file = specs[\"TrainSplit\"]\n",
    "    num_samp_per_scene = specs[\"SamplesPerScene\"]\n",
    "    \n",
    "    with open(train_split_file, \"r\") as f:\n",
    "        train_split = json.load(f)\n",
    "    \n",
    "    sdf_dataset = deep_sdf.data.SDFSamples(\n",
    "        data_source, train_split, num_samp_per_scene, load_ram=False\n",
    "    )\n",
    "    return sdf_dataset\n",
    "    \n",
    "sdf_dataset = test_dataset(experiment_directory)"
   ]
  },
  {
   "cell_type": "code",
   "execution_count": 7,
   "metadata": {},
   "outputs": [
    {
     "data": {
      "text/plain": [
       "0"
      ]
     },
     "execution_count": 7,
     "metadata": {},
     "output_type": "execute_result"
    }
   ],
   "source": [
    "sdf_dataset[0][0].shape\n",
    "sdf_dataset[0][1]"
   ]
  },
  {
   "cell_type": "code",
   "execution_count": 32,
   "metadata": {},
   "outputs": [
    {
     "name": "stdout",
     "output_type": "stream",
     "text": [
      "data\n",
      "self.npyfiles: ShapeNetV2/03001627/1007e20d5e811b308351982a6e40cf41.ply\n"
     ]
    }
   ],
   "source": [
    "def test_dataset_v2():\n",
    "    experiment_directory = 'examples/chairs_igr/'\n",
    "    specs = ws.load_experiment_specifications(experiment_directory)\n",
    "    \n",
    "    data_source = specs[\"DataSource\"]\n",
    "    print(data_source)\n",
    "    train_split_file = specs[\"TrainSplit\"]\n",
    "    num_samp_per_scene = specs[\"SamplesPerScene\"]\n",
    "    \n",
    "    with open(train_split_file, \"r\") as f:\n",
    "        train_split = json.load(f)\n",
    "    \n",
    "    sdf_dataset = deep_sdf.data.SDFSurface(\n",
    "        data_source, train_split, num_samp_per_scene, load_ram=False\n",
    "    )\n",
    "    return sdf_dataset\n",
    "    \n",
    "sdf_dataset = test_dataset_v2()"
   ]
  },
  {
   "cell_type": "code",
   "execution_count": 29,
   "metadata": {},
   "outputs": [
    {
     "name": "stdout",
     "output_type": "stream",
     "text": [
      "surface pts shape: torch.Size([8192, 3]), mean: torch.return_types.min(\n",
      "values=tensor([-0.2113, -0.2997, -0.2393]),\n",
      "indices=tensor([3137, 3051, 1326]))\n",
      "sampled pts shape: torch.Size([8192, 3]), mean: torch.return_types.min(\n",
      "values=tensor([-0.2238, -0.3196, -0.2596]),\n",
      "indices=tensor([ 291, 4045, 7766]))\n"
     ]
    }
   ],
   "source": [
    "# data_source\n",
    "idx = 2\n",
    "pts = sdf_dataset[idx][0][0]\n",
    "print(f\"surface pts shape: {pts.shape}, mean: {pts.min(axis=0)}\")\n",
    "pts = sdf_dataset[idx][0][1]\n",
    "print(f\"sampled pts shape: {pts.shape}, mean: {pts.min(axis=0)}\")"
   ]
  },
  {
   "cell_type": "code",
   "execution_count": 8,
   "metadata": {},
   "outputs": [
    {
     "data": {
      "text/plain": [
       "<trimesh.Trimesh(vertices.shape=(30000, 3), faces.shape=(10000, 3))>"
      ]
     },
     "execution_count": 8,
     "metadata": {},
     "output_type": "execute_result"
    }
   ],
   "source": [
    "import trimesh\n",
    "filename = 'data/SurfaceSamples/ShapeNetV2/03001627/1007e20d5e811b308351982a6e40cf41.ply'\n",
    "npz = trimesh.load(filename)\n",
    "npz"
   ]
  },
  {
   "cell_type": "code",
   "execution_count": 9,
   "metadata": {},
   "outputs": [
    {
     "data": {
      "text/plain": [
       "array([-0.00944013, -0.08907329, -0.07379352])"
      ]
     },
     "execution_count": 9,
     "metadata": {},
     "output_type": "execute_result"
    }
   ],
   "source": [
    "import numpy as np\n",
    "a = np.array(npz.vertices)\n",
    "a.mean(axis=0)"
   ]
  },
  {
   "cell_type": "code",
   "execution_count": 10,
   "metadata": {},
   "outputs": [],
   "source": [
    "import open3d as o3d\n",
    "pcd = o3d.io.read_point_cloud(filename)\n",
    "b = np.asarray(pcd.points)"
   ]
  },
  {
   "cell_type": "code",
   "execution_count": 11,
   "metadata": {},
   "outputs": [
    {
     "data": {
      "text/plain": [
       "array([-0.00944013, -0.08907329, -0.07379352])"
      ]
     },
     "execution_count": 11,
     "metadata": {},
     "output_type": "execute_result"
    }
   ],
   "source": [
    "b.mean(axis=0)"
   ]
  },
  {
   "cell_type": "markdown",
   "metadata": {},
   "source": [
    "### Plot out samples"
   ]
  },
  {
   "cell_type": "code",
   "execution_count": 10,
   "metadata": {},
   "outputs": [
    {
     "data": {
      "application/vnd.jupyter.widget-view+json": {
       "model_id": "a775d35cf5844923b702b59ab226645f",
       "version_major": 2,
       "version_minor": 0
      },
      "text/plain": [
       "JVisualizer with 1 geometries"
      ]
     },
     "metadata": {},
     "output_type": "display_data"
    }
   ],
   "source": [
    "import numpy as np\n",
    "import open3d as o3d\n",
    "from open3d import JVisualizer\n",
    "\n",
    "\n",
    "def open3d_vis(points, colors=None):\n",
    "    pcd = o3d.geometry.PointCloud()\n",
    "    pcd.points = o3d.utility.Vector3dVector(points)\n",
    "    if colors is not None:\n",
    "        pcd.colors = o3d.utility.Vector3dVector(colors)\n",
    "\n",
    "    visualizer = JVisualizer()\n",
    "    visualizer.add_geometry(pcd)\n",
    "    visualizer.show()\n",
    "\n",
    "points = (np.random.rand(1000, 3) - 0.5) / 4\n",
    "colors = np.random.rand(1000, 3)\n",
    "\n",
    "open3d_vis(points, colors)"
   ]
  },
  {
   "cell_type": "code",
   "execution_count": 33,
   "metadata": {},
   "outputs": [
    {
     "data": {
      "application/vnd.jupyter.widget-view+json": {
       "model_id": "e369e6ab049e4552b4970f38373f3216",
       "version_major": 2,
       "version_minor": 0
      },
      "text/plain": [
       "JVisualizer with 1 geometries"
      ]
     },
     "metadata": {},
     "output_type": "display_data"
    }
   ],
   "source": [
    "pcd = o3d.geometry.PointCloud()\n",
    "idx = 3\n",
    "mnfld_pnts, nonmnfld_pnts = sdf_dataset[idx][0][0], sdf_dataset[idx][0][1]\n",
    "\n",
    "pcd.points = o3d.utility.Vector3dVector(nonmnfld_pnts)\n",
    "\n",
    "pcd_2 = o3d.geometry.PointCloud()\n",
    "pcd_2.points = o3d.utility.Vector3dVector(mnfld_pnts)\n",
    "\n",
    "from notebooks.vis_tools import open3d_pcd_vis\n",
    "# path_temp = '/home/yyjau/Documents/object_code/DeepSDF/examples/chairs_igr/Reconstructions/100/Meshes/ShapeNetV2/03001627/cc8fe2000b1471b2a85f7c85e000fc79.ply'\n",
    "# pcd = o3d.io.read_point_cloud(path_temp)\n",
    "open3d_pcd_vis(pcd+pcd_2)"
   ]
  },
  {
   "cell_type": "markdown",
   "metadata": {},
   "source": [
    "## Loss functions"
   ]
  },
  {
   "cell_type": "code",
   "execution_count": 130,
   "metadata": {},
   "outputs": [
    {
     "data": {
      "text/plain": [
       "ImplicitNet(\n",
       "  (lin0): Linear(in_features=3, out_features=512, bias=True)\n",
       "  (lin1): Linear(in_features=512, out_features=512, bias=True)\n",
       "  (lin2): Linear(in_features=512, out_features=512, bias=True)\n",
       "  (lin3): Linear(in_features=512, out_features=509, bias=True)\n",
       "  (lin4): Linear(in_features=512, out_features=512, bias=True)\n",
       "  (lin5): Linear(in_features=512, out_features=512, bias=True)\n",
       "  (lin6): Linear(in_features=512, out_features=512, bias=True)\n",
       "  (lin7): Linear(in_features=512, out_features=512, bias=True)\n",
       "  (lin8): Linear(in_features=512, out_features=1, bias=True)\n",
       "  (activation): Softplus(beta=100, threshold=20)\n",
       ")"
      ]
     },
     "execution_count": 130,
     "metadata": {},
     "output_type": "execute_result"
    }
   ],
   "source": [
    "# input, network\n",
    "sdf_data, indices = sdf_dataset[0]\n",
    "net_igr"
   ]
  },
  {
   "cell_type": "code",
   "execution_count": 131,
   "metadata": {},
   "outputs": [
    {
     "data": {
      "text/plain": [
       "torch.float32"
      ]
     },
     "execution_count": 131,
     "metadata": {},
     "output_type": "execute_result"
    }
   ],
   "source": [
    "mnfld_pnts = mnfld_pnts.float()\n",
    "mnfld_pnts.dtype"
   ]
  },
  {
   "cell_type": "code",
   "execution_count": null,
   "metadata": {},
   "outputs": [],
   "source": []
  },
  {
   "cell_type": "code",
   "execution_count": 136,
   "metadata": {},
   "outputs": [],
   "source": [
    "(mnfld_pnts, nonmnfld_pnts) = sdf_data\n",
    "mnfld_pnts, nonmnfld_pnts = mnfld_pnts.to(device), nonmnfld_pnts.to(device)\n",
    "mnfld_pnts.requires_grad_()\n",
    "nonmnfld_pnts.requires_grad_()\n",
    "\n",
    "# forward pass\n",
    "mnfld_pred = net_igr(mnfld_pnts)\n",
    "nonmnfld_pred = net_igr(nonmnfld_pnts)"
   ]
  },
  {
   "cell_type": "code",
   "execution_count": 137,
   "metadata": {},
   "outputs": [],
   "source": [
    "pred.shape\n",
    "\n",
    "from IGR.model.network import gradient\n",
    "mnfld_grad = gradient(mnfld_pnts, mnfld_pred)\n",
    "nonmnfld_grad = gradient(nonmnfld_pnts, nonmnfld_pred)\n"
   ]
  },
  {
   "cell_type": "code",
   "execution_count": 102,
   "metadata": {},
   "outputs": [],
   "source": [
    "# from IGR.model.sample import NormalPerPoint\n",
    "# global_sigma = 1.8\n",
    "# local_sigma = 0.01\n",
    "# sampler = NormalPerPoint(global_sigma, local_sigma)\n",
    "# mnfld_pnts = mnfld_pnts.unsqueeze(0)\n",
    "# nonmnfld_pnts = sampler.get_points(mnfld_pnts)"
   ]
  },
  {
   "cell_type": "code",
   "execution_count": 139,
   "metadata": {},
   "outputs": [
    {
     "data": {
      "text/plain": [
       "torch.Size([8192, 3])"
      ]
     },
     "execution_count": 139,
     "metadata": {},
     "output_type": "execute_result"
    }
   ],
   "source": [
    "nonmnfld_pnts.shape\n",
    "# mnfld_pnts.shape"
   ]
  },
  {
   "cell_type": "code",
   "execution_count": 140,
   "metadata": {},
   "outputs": [],
   "source": [
    "grad_lambda = 0.1\n",
    "# manifold loss\n",
    "\n",
    "mnfld_loss = (mnfld_pred.abs()).mean()\n",
    "\n",
    "# eikonal loss\n",
    "\n",
    "grad_loss = ((nonmnfld_grad.norm(2, dim=-1) - 1) ** 2).mean()\n",
    "\n",
    "loss = mnfld_loss + grad_lambda * grad_loss"
   ]
  },
  {
   "cell_type": "code",
   "execution_count": 141,
   "metadata": {},
   "outputs": [
    {
     "data": {
      "text/plain": [
       "tensor(0.4962, device='cuda:0', grad_fn=<AddBackward0>)"
      ]
     },
     "execution_count": 141,
     "metadata": {},
     "output_type": "execute_result"
    }
   ],
   "source": [
    "loss"
   ]
  },
  {
   "cell_type": "code",
   "execution_count": null,
   "metadata": {},
   "outputs": [],
   "source": []
  }
 ],
 "metadata": {
  "kernelspec": {
   "display_name": "py36-object",
   "language": "python",
   "name": "py36-object"
  },
  "language_info": {
   "codemirror_mode": {
    "name": "ipython",
    "version": 3
   },
   "file_extension": ".py",
   "mimetype": "text/x-python",
   "name": "python",
   "nbconvert_exporter": "python",
   "pygments_lexer": "ipython3",
   "version": "3.6.10"
  }
 },
 "nbformat": 4,
 "nbformat_minor": 4
}

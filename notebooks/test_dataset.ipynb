{
 "cells": [
  {
   "cell_type": "markdown",
   "metadata": {},
   "source": [
    "## Test SDF dataset"
   ]
  },
  {
   "cell_type": "code",
   "execution_count": 1,
   "metadata": {},
   "outputs": [
    {
     "name": "stdout",
     "output_type": "stream",
     "text": [
      "/home/yyjau/Documents/object_code/DeepSDF\n"
     ]
    }
   ],
   "source": [
    "import os\n",
    "import sys\n",
    "# add your module path\n",
    "module_path = os.path.abspath(os.path.join('..')) # '.'\n",
    "if module_path not in sys.path:\n",
    "    sys.path.append(module_path)\n",
    "# change your base path\n",
    "os.chdir('../') # '../'\n",
    "print(os.getcwd())"
   ]
  },
  {
   "cell_type": "code",
   "execution_count": 2,
   "metadata": {},
   "outputs": [],
   "source": [
    "%load_ext autoreload\n",
    "%autoreload 2"
   ]
  },
  {
   "cell_type": "code",
   "execution_count": 3,
   "metadata": {},
   "outputs": [
    {
     "name": "stdout",
     "output_type": "stream",
     "text": [
      "{'Description': ['This experiment learns a shape representation for chairs ', 'using data from ShapeNet version 2.'], 'DataSource': 'data', 'TrainSplit': 'examples/splits/sv2_chairs_train.json', 'TestSplit': 'examples/splits/sv2_chairs_test.json', 'Exp_mode': 'IGR', 'NetworkArch': 'igr_decoder', 'NetworkSpecs': {'dims': [512, 512, 512, 512, 512, 512, 512, 512], 'skip_in': [4], 'geometric_init': True, 'radius_init': 1, 'beta': 100}, 'loss': 'smoothl1', 'CodeLength': 256, 'NumEpochs': 2001, 'SnapshotFrequency': 10, 'AdditionalSnapshots': [100, 500], 'LearningRateSchedule': [{'Type': 'Step', 'Initial': 0.0005, 'Interval': 500, 'Factor': 0.5}, {'Type': 'Step', 'Initial': 0.001, 'Interval': 500, 'Factor': 0.5}], 'SamplesPerScene': 16384, 'ScenesPerBatch': 4, 'DataLoaderThreads': 4, 'ClampingDistance': 1.0, 'CodeRegularization': False, 'CodeRegularizationLambda': 0.0001, 'CodeBound': 1.0}\n"
     ]
    }
   ],
   "source": [
    "import deep_sdf\n",
    "import deep_sdf.workspace as ws\n",
    "\n",
    "experiment_directory = 'examples/sofas/'\n",
    "experiment_directory = 'examples/chairs_igr/'\n",
    "specs = ws.load_experiment_specifications(experiment_directory)\n",
    "\n",
    "print(f\"{specs}\")"
   ]
  },
  {
   "cell_type": "code",
   "execution_count": 4,
   "metadata": {},
   "outputs": [],
   "source": [
    "import json\n",
    "def load_data(specs):\n",
    "    data_source = specs[\"DataSource\"]\n",
    "    train_split_file = specs[\"TrainSplit\"]\n",
    "    num_samp_per_scene = specs[\"SamplesPerScene\"]\n",
    "\n",
    "    with open(train_split_file, \"r\") as f:\n",
    "        train_split = json.load(f)\n",
    "\n",
    "    sdf_dataset = deep_sdf.data.SDFSamples(\n",
    "        data_source, train_split, num_samp_per_scene, load_ram=False\n",
    "    )\n",
    "    return sdf_dataset\n",
    "\n",
    "sdf_dataset = load_data(specs)"
   ]
  },
  {
   "cell_type": "code",
   "execution_count": 5,
   "metadata": {},
   "outputs": [],
   "source": [
    "import logging\n",
    "sdf_dataset[0]\n",
    "\n",
    "num_scenes = len(sdf_dataset)\n",
    "\n",
    "logging.info(\"There are {} scenes\".format(num_scenes))"
   ]
  },
  {
   "cell_type": "code",
   "execution_count": 6,
   "metadata": {},
   "outputs": [],
   "source": [
    "sdf_data, indices = sdf_dataset[0]"
   ]
  },
  {
   "cell_type": "code",
   "execution_count": 7,
   "metadata": {},
   "outputs": [
    {
     "data": {
      "text/plain": [
       "0"
      ]
     },
     "execution_count": 7,
     "metadata": {},
     "output_type": "execute_result"
    }
   ],
   "source": [
    "indices"
   ]
  },
  {
   "cell_type": "code",
   "execution_count": 8,
   "metadata": {},
   "outputs": [
    {
     "data": {
      "text/plain": [
       "tensor([[ 0.2970, -0.4550, -0.9247,  0.3294],\n",
       "        [ 0.0488,  0.0444,  0.5115,  0.0120],\n",
       "        [ 0.4392, -0.6358,  0.0016,  0.0307],\n",
       "        ...,\n",
       "        [ 0.2757, -0.4760, -0.4555, -0.0138],\n",
       "        [-0.1209,  0.6849,  0.5436, -0.0049],\n",
       "        [ 0.3051, -0.5209, -0.4195, -0.0320]])"
      ]
     },
     "execution_count": 8,
     "metadata": {},
     "output_type": "execute_result"
    }
   ],
   "source": [
    "sdf_data"
   ]
  },
  {
   "cell_type": "code",
   "execution_count": null,
   "metadata": {},
   "outputs": [],
   "source": []
  }
 ],
 "metadata": {
  "kernelspec": {
   "display_name": "py36-object",
   "language": "python",
   "name": "py36-object"
  },
  "language_info": {
   "codemirror_mode": {
    "name": "ipython",
    "version": 3
   },
   "file_extension": ".py",
   "mimetype": "text/x-python",
   "name": "python",
   "nbconvert_exporter": "python",
   "pygments_lexer": "ipython3",
   "version": "3.6.10"
  }
 },
 "nbformat": 4,
 "nbformat_minor": 4
}

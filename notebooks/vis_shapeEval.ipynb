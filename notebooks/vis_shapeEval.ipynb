{
 "cells": [
  {
   "cell_type": "markdown",
   "metadata": {},
   "source": [
    "## Reconstruction and evaluation"
   ]
  },
  {
   "cell_type": "code",
   "execution_count": null,
   "metadata": {},
   "outputs": [],
   "source": [
    "import os\n",
    "import sys\n",
    "# add your module path\n",
    "module_path = os.path.abspath(os.path.join('..')) # '.'\n",
    "if module_path not in sys.path:\n",
    "    sys.path.append(module_path)\n",
    "# change your base path\n",
    "os.chdir('../') # '../'\n",
    "print(os.getcwd())"
   ]
  },
  {
   "cell_type": "code",
   "execution_count": null,
   "metadata": {},
   "outputs": [],
   "source": [
    "%load_ext autoreload\n",
    "%autoreload 2"
   ]
  },
  {
   "cell_type": "code",
   "execution_count": null,
   "metadata": {},
   "outputs": [],
   "source": [
    "class foo(object):\n",
    "    def __init__(self):\n",
    "        pass\n",
    "\n",
    "paths = foo()\n",
    "    \n",
    "# files\n",
    "paths.sub_path = 'ShapeNetV2/04256520'\n",
    "paths.recon_path = 'examples/sofas/Reconstructions/2000/Meshes'\n",
    "paths.recon_file = 'cc644fad0b76a441d84c7dc40ac6d743'\n",
    "paths.recon_ext = '.ply'\n",
    "\n",
    "paths.sample_path = 'data/SdfSamples'\n",
    "paths.sample_ext = '.npz'\n",
    "\n"
   ]
  },
  {
   "cell_type": "code",
   "execution_count": null,
   "metadata": {},
   "outputs": [],
   "source": [
    "# sample file\n",
    "import deep_sdf\n",
    "sample_file = f\"{paths.sample_path}/{paths.sub_path}/{paths.recon_file}{paths.sample_ext}\"\n",
    "data_sdf = deep_sdf.data.read_sdf_samples_into_ram(sample_file)"
   ]
  },
  {
   "cell_type": "code",
   "execution_count": null,
   "metadata": {},
   "outputs": [],
   "source": [
    "data_sdf\n",
    "[sample_pos, sample_neg] = data_sdf\n",
    "sample_pos_np = sample_pos.numpy()\n",
    "sample_neg_np = sample_neg.numpy()\n",
    "print(f\"sample_pos_np: {sample_pos_np.shape}\")\n",
    "from utils.utils_misc import crop_or_pad_choice\n",
    "\n",
    "n_samples = 500\n",
    "idx = crop_or_pad_choice(sample_pos_np.shape[0], n_samples, shuffle=True)\n",
    "pos_np_s = sample_pos_np[idx]"
   ]
  },
  {
   "cell_type": "code",
   "execution_count": null,
   "metadata": {},
   "outputs": [],
   "source": [
    "sample_neg_np.shape\n",
    "print(f\"plot histogram\")\n",
    "def plot_hist(arr, n_bins=None):\n",
    "    import matplotlib.pyplot as plt\n",
    "    for i in range(arr.shape[1]):\n",
    "        print(f\"dim: {i}\")\n",
    "        plt.hist(arr[:,i], bins=n_bins)\n",
    "        plt.show()\n",
    "        \n",
    "plot_hist(sample_neg_np)"
   ]
  },
  {
   "cell_type": "code",
   "execution_count": null,
   "metadata": {},
   "outputs": [],
   "source": [
    "\n",
    "import numpy as np\n",
    "import open3d as o3d\n",
    "from open3d import JVisualizer\n",
    "\n",
    "\n",
    "def open3d_vis(points, colors=None):\n",
    "    pcd = o3d.geometry.PointCloud()\n",
    "    pcd.points = o3d.utility.Vector3dVector(points)\n",
    "    if colors is not None:\n",
    "        pcd.colors = o3d.utility.Vector3dVector(colors)\n",
    "\n",
    "    visualizer = JVisualizer()\n",
    "    visualizer.add_geometry(pcd)\n",
    "    visualizer.show()\n",
    "\n",
    "points = (np.random.rand(1000, 3) - 0.5) / 4\n",
    "colors = np.random.rand(1000, 3)\n",
    "\n",
    "open3d_vis(points, colors)\n"
   ]
  },
  {
   "cell_type": "code",
   "execution_count": null,
   "metadata": {},
   "outputs": [],
   "source": []
  },
  {
   "cell_type": "code",
   "execution_count": null,
   "metadata": {},
   "outputs": [],
   "source": []
  },
  {
   "cell_type": "code",
   "execution_count": null,
   "metadata": {},
   "outputs": [],
   "source": [
    "## Use open3d for visualization\n",
    "# from notebooks.vis_tools import open3d_vis\n",
    "# open3d_vis(sample_pos_np[:,:3])\n",
    "# open3d_vis(sample_neg_np[:,:3])\n",
    "\n",
    "\n",
    "from notebooks.vis_tools import open3d_pcd_vis\n",
    "# use mean loss\n",
    "# path_temp = 'examples/chairs_smoothl1_20200804/TrainingMeshes/200/ShapeNetV2/03001627/1022fe7dd03f6a4d4d5ad9f13ac9f4e7.ply'\n",
    "# path_temp = 'examples/chairs_igr/TrainingMeshes/100/ShapeNetV2/03001627/1022fe7dd03f6a4d4d5ad9f13ac9f4e7.ply'\n",
    "# path_temp = 'examples/chairs_igr-loss_v0/TrainingMeshes/200/ShapeNetV2/03001627/1022fe7dd03f6a4d4d5ad9f13ac9f4e7.ply'\n",
    "path_temp = 'examples/chairs_igr-net-loss_v0_20200817/TrainingMeshes/200/ShapeNetV2/03001627/1022fe7dd03f6a4d4d5ad9f13ac9f4e7.ply'\n",
    "\n",
    "pcd = o3d.io.read_point_cloud(path_temp)\n",
    "open3d_pcd_vis(pcd)\n"
   ]
  },
  {
   "cell_type": "code",
   "execution_count": null,
   "metadata": {
    "scrolled": false
   },
   "outputs": [],
   "source": [
    "it = 1\n",
    "from notebooks.vis_tools import open3d_pcd_vis\n",
    "it += 1\n",
    "path_temp = f'examples/chairs_igr-net-loss_v0_20200817/TrainingMeshes/{it*100}/ShapeNetV2/03001627/1022fe7dd03f6a4d4d5ad9f13ac9f4e7.ply'\n",
    "pcd = o3d.io.read_point_cloud(path_temp)\n",
    "print(pcd)\n",
    "open3d_pcd_vis(pcd)\n"
   ]
  },
  {
   "cell_type": "code",
   "execution_count": null,
   "metadata": {},
   "outputs": [],
   "source": [
    "from notebooks.vis_tools import open3d_pcd_vis\n",
    "it = 5\n",
    "path_temp = f'examples/chairs_smoothl1_20200812/TrainingMeshes/{it*100}/ShapeNetV2/03001627/1022fe7dd03f6a4d4d5ad9f13ac9f4e7.ply'\n",
    "pcd = o3d.io.read_point_cloud(path_temp)\n",
    "print(f\"epoch: {it*100}, {pcd}\")\n",
    "open3d_pcd_vis(pcd)"
   ]
  },
  {
   "cell_type": "code",
   "execution_count": null,
   "metadata": {},
   "outputs": [],
   "source": [
    "from notebooks.vis_tools import open3d_pcd_vis\n",
    "it = 10\n",
    "path_temp = f'examples/chairs_smoothl1_20200812/TrainingMeshes/{it*100}/ShapeNetV2/03001627/1022fe7dd03f6a4d4d5ad9f13ac9f4e7.ply'\n",
    "pcd = o3d.io.read_point_cloud(path_temp)\n",
    "print(f\"epoch: {it*100}, {pcd}\")\n",
    "open3d_pcd_vis(pcd)"
   ]
  },
  {
   "cell_type": "code",
   "execution_count": null,
   "metadata": {},
   "outputs": [],
   "source": [
    "from notebooks.vis_tools import open3d_pcd_vis\n",
    "path_temp = 'examples/chairs_smoothl1_20200812/TrainingMeshes/1000/ShapeNetV2/03001627/1022fe7dd03f6a4d4d5ad9f13ac9f4e7.ply'\n",
    "pcd = o3d.io.read_point_cloud(path_temp)\n",
    "print(pcd)\n",
    "open3d_pcd_vis(pcd)\n"
   ]
  },
  {
   "cell_type": "code",
   "execution_count": null,
   "metadata": {},
   "outputs": [],
   "source": [
    "from notebooks.vis_tools import open3d_pcd_vis\n",
    "path_temp = 'examples/chairs_smoothl1_20200812/TrainingMeshes/1300/ShapeNetV2/03001627/1022fe7dd03f6a4d4d5ad9f13ac9f4e7.ply'\n",
    "pcd = o3d.io.read_point_cloud(path_temp)\n",
    "print(pcd)\n",
    "open3d_pcd_vis(pcd)\n"
   ]
  },
  {
   "cell_type": "code",
   "execution_count": null,
   "metadata": {},
   "outputs": [],
   "source": []
  },
  {
   "cell_type": "code",
   "execution_count": null,
   "metadata": {},
   "outputs": [],
   "source": []
  },
  {
   "cell_type": "code",
   "execution_count": null,
   "metadata": {},
   "outputs": [],
   "source": []
  },
  {
   "cell_type": "code",
   "execution_count": null,
   "metadata": {},
   "outputs": [],
   "source": []
  },
  {
   "cell_type": "code",
   "execution_count": null,
   "metadata": {},
   "outputs": [],
   "source": []
  },
  {
   "cell_type": "code",
   "execution_count": null,
   "metadata": {},
   "outputs": [],
   "source": []
  },
  {
   "cell_type": "code",
   "execution_count": null,
   "metadata": {},
   "outputs": [],
   "source": []
  },
  {
   "cell_type": "code",
   "execution_count": null,
   "metadata": {},
   "outputs": [],
   "source": [
    "import matplotlib.pyplot as plt\n",
    "from mpl_toolkits.mplot3d import Axes3D\n",
    "fig = plt.figure()\n",
    "ax = fig.add_subplot(111, projection='3d')\n",
    "\n",
    "\n",
    "def scatter_3d(arr):\n",
    "    fig = plt.figure()\n",
    "    ax = fig.add_subplot(111, projection='3d')\n",
    "    ax.scatter(arr[:,0], arr[:,1], arr[:,2])\n",
    "    \n",
    "scatter_3d(pos_np_s)"
   ]
  },
  {
   "cell_type": "markdown",
   "metadata": {},
   "source": [
    "### visualization for reconstruction"
   ]
  },
  {
   "cell_type": "code",
   "execution_count": null,
   "metadata": {},
   "outputs": [],
   "source": [
    "recon_file = f\"{paths.recon_path}/{paths.sub_path}/{paths.recon_file}{paths.recon_ext}\"\n",
    "recon_file"
   ]
  },
  {
   "cell_type": "code",
   "execution_count": null,
   "metadata": {},
   "outputs": [],
   "source": [
    "import open3d as o3d"
   ]
  },
  {
   "cell_type": "code",
   "execution_count": null,
   "metadata": {},
   "outputs": [],
   "source": [
    "o3d.__version__"
   ]
  },
  {
   "cell_type": "code",
   "execution_count": null,
   "metadata": {},
   "outputs": [],
   "source": [
    "pcd = o3d.io.read_point_cloud(recon_file)\n",
    "pcd_np = np.asarray(pcd.points)\n",
    "print(f\"pcd_np: {pcd_np.shape}\")\n",
    "n_samples = 5000\n",
    "idx = crop_or_pad_choice(pcd_np.shape[0], n_samples, shuffle=True)\n",
    "pcd_np_s = pcd_np[idx]\n",
    "\n",
    "from notebooks.vis_tools import open3d_pcd_vis\n",
    "open3d_pcd_vis(pcd)\n",
    "# scatter_3d(pcd_np_s)\n",
    "# o3d.visualization.draw_geometries([pcd], zoom=0.3412,\n",
    "#                                   front=[0.4257, -0.2125, -0.8795],\n",
    "#                                   lookat=[2.6172, 2.0475, 1.532],\n",
    "#                                   up=[-0.0694, -0.9768, 0.2024])"
   ]
  },
  {
   "cell_type": "code",
   "execution_count": null,
   "metadata": {},
   "outputs": [],
   "source": [
    "# import numpy as np\n",
    "# import open3d as o3d\n",
    "# # from open3d import JVisualizer\n",
    "\n",
    "# points = (np.random.rand(1000, 3) - 0.5) / 4\n",
    "# colors = np.random.rand(1000, 3)\n",
    "\n",
    "# pcd = o3d.geometry.PointCloud()\n",
    "# pcd.points = o3d.utility.Vector3dVector(points)\n",
    "# pcd.colors = o3d.utility.Vector3dVector(colors)\n",
    "\n",
    "\n",
    "# # visualizer = JVisualizer()\n",
    "# visualizer = o3d.JVisualizer()\n",
    "# visualizer.add_geometry(pcd)\n",
    "# visualizer.show()"
   ]
  },
  {
   "cell_type": "markdown",
   "metadata": {},
   "source": [
    "## Open3d"
   ]
  },
  {
   "cell_type": "code",
   "execution_count": null,
   "metadata": {},
   "outputs": [],
   "source": [
    "import numpy as np\n",
    "import open3d as o3d\n",
    "from open3d import JVisualizer\n",
    "\n",
    "\n",
    "\n",
    "points = (np.random.rand(1000, 3) - 0.5) / 4\n",
    "colors = np.random.rand(1000, 3)\n",
    "\n",
    "def open3d_vis(points, colors=None):\n",
    "    pcd = o3d.geometry.PointCloud()\n",
    "    pcd.points = o3d.utility.Vector3dVector(points)\n",
    "    if colors is not None:\n",
    "        pcd.colors = o3d.utility.Vector3dVector(colors)\n",
    "\n",
    "    visualizer = JVisualizer()\n",
    "    visualizer.add_geometry(pcd)\n",
    "    visualizer.show()\n",
    "    \n",
    "open3d_vis(points, colors)"
   ]
  },
  {
   "cell_type": "code",
   "execution_count": null,
   "metadata": {},
   "outputs": [],
   "source": [
    "import matplotlib\n",
    "%matplotlib inline\n",
    "# matplotlib.use('TKAgg') "
   ]
  },
  {
   "cell_type": "code",
   "execution_count": null,
   "metadata": {},
   "outputs": [],
   "source": []
  },
  {
   "cell_type": "code",
   "execution_count": null,
   "metadata": {},
   "outputs": [],
   "source": []
  }
 ],
 "metadata": {
  "kernelspec": {
   "display_name": "py36-object",
   "language": "python",
   "name": "py36-object"
  },
  "language_info": {
   "codemirror_mode": {
    "name": "ipython",
    "version": 3
   },
   "file_extension": ".py",
   "mimetype": "text/x-python",
   "name": "python",
   "nbconvert_exporter": "python",
   "pygments_lexer": "ipython3",
   "version": "3.6.10"
  }
 },
 "nbformat": 4,
 "nbformat_minor": 4
}
